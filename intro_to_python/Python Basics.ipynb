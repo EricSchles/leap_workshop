{
 "cells": [
  {
   "cell_type": "markdown",
   "metadata": {},
   "source": [
    "# Introduction To Python\n",
    "\n",
    "Python is a high level powerful language that is capable of object orientation, functional programming, scripting and more.  It has many mature web development frameworks (good choices are Django and Flask, amongst many others), many data science libraries, many infrastructure tools, cyber security tools, game making libraries and much more!\n",
    "\n",
    "In this tutorial we will start on the journey of understanding the basic syntax of the Python language.  This tutorial will be fast paced and assumes you already know one or more programming languages well.  This tutorial will be about explaining the syntax of how to do things, not the associated semantics.  It is assumed that the reader will already be familiar with all or most concepts already, except for those specific to the Python language.\n",
    "\n",
    "Table of Contents\n",
    "\n",
    "* Variables\n",
    "* Flow of Control\n",
    "* Functions\n",
    "    * decorators\n",
    "* classes\n",
    "    * dunder methods\n",
    "    * Inheretance\n",
    "    * Multiple Inheretance\n",
    "    * Composition\n",
    "    * static methods\n",
    "* while loops\n",
    "* for loops\n",
    "* lists\n",
    "    * list comprehensions\n",
    "* dictionaries\n",
    "    * dictionary comprehensions\n",
    "* builtin libraries\n",
    "    * functools\n",
    "    * itertools\n",
    "    * collections\n",
    "* introspection\n",
    "    * dir\n",
    "    * help\n",
    "    * inspect\n",
    "    * dis\n",
    "* async\n",
    "* multiprocessing"
   ]
  },
  {
   "cell_type": "code",
   "execution_count": 4,
   "metadata": {},
   "outputs": [
    {
     "name": "stdout",
     "output_type": "stream",
     "text": [
      "Help on function dis in module dis:\n",
      "\n",
      "dis(x=None, *, file=None, depth=None)\n",
      "    Disassemble classes, methods, functions, and other compiled objects.\n",
      "    \n",
      "    With no argument, disassemble the last traceback.\n",
      "    \n",
      "    Compiled objects currently include generator objects, async generator\n",
      "    objects, and coroutine objects, all of which store their code object\n",
      "    in a special attribute.\n",
      "\n"
     ]
    }
   ],
   "source": [
    "import dis\n",
    "help(dis.dis)"
   ]
  },
  {
   "cell_type": "code",
   "execution_count": null,
   "metadata": {},
   "outputs": [],
   "source": []
  }
 ],
 "metadata": {
  "kernelspec": {
   "display_name": "Python 3",
   "language": "python",
   "name": "python3"
  },
  "language_info": {
   "codemirror_mode": {
    "name": "ipython",
    "version": 3
   },
   "file_extension": ".py",
   "mimetype": "text/x-python",
   "name": "python",
   "nbconvert_exporter": "python",
   "pygments_lexer": "ipython3",
   "version": "3.7.1"
  }
 },
 "nbformat": 4,
 "nbformat_minor": 2
}
